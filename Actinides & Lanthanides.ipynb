{
 "cells": [
  {
   "cell_type": "code",
   "execution_count": 4,
   "id": "31ecd7e9",
   "metadata": {},
   "outputs": [],
   "source": [
    "import pandas as pd\n",
    "import sqlite3\n",
    "#converting excel files to dataframes\n",
    "df_ac = pd.read_csv(\"Actinides.csv\")\n",
    "df_la = pd.read_csv(\"Lanthanides.csv\")"
   ]
  },
  {
   "cell_type": "code",
   "execution_count": 5,
   "id": "dd059d95",
   "metadata": {},
   "outputs": [],
   "source": [
    "conn = sqlite3.connect(\"Ac_LA.db\")"
   ]
  },
  {
   "cell_type": "code",
   "execution_count": 23,
   "id": "547f933c",
   "metadata": {},
   "outputs": [
    {
     "data": {
      "text/plain": [
       "15"
      ]
     },
     "execution_count": 23,
     "metadata": {},
     "output_type": "execute_result"
    }
   ],
   "source": [
    "#creating Actinides table from dataframe\n",
    "df_ac.to_sql('Actinides', conn, if_exists='replace', index=False)"
   ]
  },
  {
   "cell_type": "code",
   "execution_count": 24,
   "id": "2a5f92a5",
   "metadata": {},
   "outputs": [
    {
     "data": {
      "text/plain": [
       "15"
      ]
     },
     "execution_count": 24,
     "metadata": {},
     "output_type": "execute_result"
    }
   ],
   "source": [
    "##creating Lanthanides table from dataframe\n",
    "df_la.to_sql('Lanthanides', conn, if_exists='replace', index=False)"
   ]
  },
  {
   "cell_type": "code",
   "execution_count": 32,
   "id": "16eb11e5",
   "metadata": {},
   "outputs": [],
   "source": [
    "conn = sqlite3.connect(\"Ac_LA.db\")\n",
    "cursor = conn.cursor()"
   ]
  },
  {
   "cell_type": "code",
   "execution_count": 39,
   "id": "b4388811",
   "metadata": {},
   "outputs": [
    {
     "data": {
      "text/plain": [
       "<sqlite3.Cursor at 0x1eecd18e810>"
      ]
     },
     "execution_count": 39,
     "metadata": {},
     "output_type": "execute_result"
    }
   ],
   "source": [
    "#selecting elements with Boiling point above 2000\n",
    "cursor.execute('''SELECT Element, Atomic_number, Boiling_point\n",
    "from Actinides\n",
    "where Boiling_point > 2000\n",
    "UNION\n",
    "SELECT Element, Atomic_number, Boiling_point\n",
    "from Lanthanides\n",
    "where Boiling_point > 2000''')"
   ]
  },
  {
   "cell_type": "code",
   "execution_count": 40,
   "id": "ddf0bcdb",
   "metadata": {},
   "outputs": [],
   "source": [
    "# Fetch the results\n",
    "results = cursor.fetchall()\n"
   ]
  },
  {
   "cell_type": "code",
   "execution_count": 41,
   "id": "42562b41",
   "metadata": {},
   "outputs": [
    {
     "name": "stdout",
     "output_type": "stream",
     "text": [
      "('Actinium', 89, 3471.0)\n",
      "('Americium', 95, 2880.0)\n",
      "('Berkelium', 97, 2900.0)\n",
      "('Cerium', 58, 3716)\n",
      "('Curium', 96, 3383.0)\n",
      "('Dysprosium', 66, 2840)\n",
      "('Erbium', 68, 3141)\n",
      "('Gadolinium', 64, 3546)\n",
      "('Holmium', 67, 2993)\n",
      "('Lanthanum', 57, 3737)\n",
      "('Lutetium', 71, 3675)\n",
      "('Neodymium', 60, 3347)\n",
      "('Neptunium', 93, 4273.0)\n",
      "('Plutonium', 94, 3501.0)\n",
      "('Praseodymium', 59, 3793)\n",
      "('Promethium', 61, 3273)\n",
      "('Protactinium', 91, 4300.0)\n",
      "('Samarium', 62, 2067)\n",
      "('Terbium', 65, 3503)\n",
      "('Thorium', 90, 5061.0)\n",
      "('Thulium', 69, 2223)\n",
      "('Uranium', 92, 4404.0)\n"
     ]
    }
   ],
   "source": [
    "# Print the results\n",
    "for row in results:\n",
    "    print(row)\n"
   ]
  },
  {
   "cell_type": "code",
   "execution_count": 42,
   "id": "6fe0b5ec",
   "metadata": {},
   "outputs": [
    {
     "data": {
      "text/plain": [
       "<sqlite3.Cursor at 0x1eecd18e810>"
      ]
     },
     "execution_count": 42,
     "metadata": {},
     "output_type": "execute_result"
    }
   ],
   "source": [
    "#selecting Actinides with 1.3 < Electronegativity <1.4 \n",
    "cursor.execute('''select Element, Atomic_number, Electro_negativity\n",
    "from Actinides\n",
    "where Electro_negativity BETWEEN 1.3 and 1.4''')"
   ]
  },
  {
   "cell_type": "code",
   "execution_count": 43,
   "id": "c6002697",
   "metadata": {},
   "outputs": [],
   "source": [
    "# Fetch the results\n",
    "results = cursor.fetchall()\n"
   ]
  },
  {
   "cell_type": "code",
   "execution_count": 44,
   "id": "a2b41f29",
   "metadata": {},
   "outputs": [
    {
     "name": "stdout",
     "output_type": "stream",
     "text": [
      "('Thorium', 90, 1.3)\n",
      "('Uranium', 92, 1.38)\n",
      "('Neptunium', 93, 1.36)\n",
      "('Berkelium', 97, 1.3)\n",
      "('Californium', 98, 1.3)\n",
      "('Einsteinium', 99, 1.3)\n",
      "('Fermium', 100, 1.3)\n",
      "('Mendelevium', 101, 1.3)\n",
      "('Nobelium', 102, 1.3)\n",
      "('Lawrencium', 103, 1.3)\n"
     ]
    }
   ],
   "source": [
    "# Print the results\n",
    "for row in results:\n",
    "    print(row)"
   ]
  },
  {
   "cell_type": "code",
   "execution_count": 46,
   "id": "c36cc247",
   "metadata": {},
   "outputs": [],
   "source": [
    "#close the connection\n",
    "conn.close()"
   ]
  },
  {
   "cell_type": "code",
   "execution_count": null,
   "id": "1ce62696",
   "metadata": {},
   "outputs": [],
   "source": []
  }
 ],
 "metadata": {
  "kernelspec": {
   "display_name": "Python 3 (ipykernel)",
   "language": "python",
   "name": "python3"
  },
  "language_info": {
   "codemirror_mode": {
    "name": "ipython",
    "version": 3
   },
   "file_extension": ".py",
   "mimetype": "text/x-python",
   "name": "python",
   "nbconvert_exporter": "python",
   "pygments_lexer": "ipython3",
   "version": "3.9.12"
  }
 },
 "nbformat": 4,
 "nbformat_minor": 5
}
